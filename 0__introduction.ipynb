{
 "cells": [
  {
   "cell_type": "markdown",
   "metadata": {
    "slideshow": {
     "slide_type": "slide"
    }
   },
   "source": [
    "<center>\n",
    "  <header>\n",
    "    <h1>Testing for Scientists and Engineers</h1>\n",
    "    <h3>Interactive vs? Test Driven Development</h3>\n",
    "  </header>\n",
    "<img src=\"images/wtfm.jpg\" alt=\"http://www.osnews.com/images/comics/wtfm.jpg\" width=\"400\">\n",
    "<h4>\n",
    "<font color=\"red\">pls clone & prepare: <a href=\"github.com/caichinger/pyconsk18_testing\">github.com/caichinger/pyconsk18_testing</a></font>\n",
    "</h4>\n",
    "<br>\n",
    "claus.aichinger@gmail.com\n",
    "<br>\n",
    "PyCon SK, 2018-03-11\n",
    "</center>"
   ]
  },
  {
   "cell_type": "markdown",
   "metadata": {
    "slideshow": {
     "slide_type": "slide"
    }
   },
   "source": [
    "## Workshop Objectives\n",
    "\n",
    "Primary Goal:\n",
    "\n",
    "> How can I integrate testing in my interactive development process?\n",
    "\n",
    "\n",
    "Non-Goal:\n",
    "\n",
    "> How can I do this or that kind of test or does this particular feature of *test work?\n",
    "\n"
   ]
  },
  {
   "cell_type": "markdown",
   "metadata": {
    "slideshow": {
     "slide_type": "slide"
    }
   },
   "source": [
    "## Agenda\n",
    "\n",
    "- Installation\n",
    "\n",
    "- General Introduction\n",
    "\n",
    "- Let's get to know some tools (exercise based)\n",
    "  - [engarde](http://engarde.readthedocs.org/)\n",
    "  - [doctest](https://docs.python.org/3/library/doctest.html)\n",
    "  - [pytest](http://pytest.org/)\n",
    "\n",
    "- Let's solve a problem (live coding, all together)\n",
    "  - Specification\n",
    "  - How to approach it?\n",
    "  - How to devise tests?"
   ]
  },
  {
   "cell_type": "markdown",
   "metadata": {
    "slideshow": {
     "slide_type": "slide"
    }
   },
   "source": [
    "## About Testing..."
   ]
  },
  {
   "cell_type": "markdown",
   "metadata": {
    "slideshow": {
     "slide_type": "fragment"
    }
   },
   "source": [
    "## What is a Test?"
   ]
  },
  {
   "cell_type": "markdown",
   "metadata": {
    "slideshow": {
     "slide_type": "fragment"
    }
   },
   "source": [
    "Very sloppy and very abstract:\n",
    "\n",
    "> A test verifies (some) expectations about your program"
   ]
  },
  {
   "cell_type": "markdown",
   "metadata": {
    "slideshow": {
     "slide_type": "slide"
    }
   },
   "source": [
    "## Why (Automatic) Testing?"
   ]
  },
  {
   "cell_type": "markdown",
   "metadata": {
    "slideshow": {
     "slide_type": "fragment"
    }
   },
   "source": [
    "- Ensure correctness (under specific circumstances)\n",
    "\n",
    "- Build trust\n",
    "\n",
    "- Document the system\n",
    "\n",
    "- Allow changes (and optimizations)\n",
    "\n",
    "---\n",
    "\n",
    "- Design?\n",
    "  - Tests force you to be explicit\n",
    "  - Tests can guide the development process\n",
    "  - Tests give feedback"
   ]
  },
  {
   "cell_type": "markdown",
   "metadata": {
    "slideshow": {
     "slide_type": "fragment"
    }
   },
   "source": [
    "> any non-trivial code without tests is broken\n",
    "\n",
    "[Martin Fowler](https://martinfowler.com/bliki/SelfTestingCode.html)"
   ]
  },
  {
   "cell_type": "markdown",
   "metadata": {
    "slideshow": {
     "slide_type": "slide"
    }
   },
   "source": [
    "### What is Test Driven Development?"
   ]
  },
  {
   "cell_type": "markdown",
   "metadata": {
    "slideshow": {
     "slide_type": "fragment"
    }
   },
   "source": [
    "<img src=\"images/stride-nyc-test-driven-development-chart-700x400.jpg\" alt=\"http://haselt.com/wp-content/uploads/2016/02/stride-nyc-test-driven-development-chart-700x400.jpg\" width=\"600\">"
   ]
  },
  {
   "cell_type": "markdown",
   "metadata": {
    "slideshow": {
     "slide_type": "subslide"
    }
   },
   "source": [
    "### Test Driven Challenges\n",
    "\n",
    "- Testable code requires testable design\n",
    "\n",
    "- Good design is hard\n",
    "\n",
    "- Writing well designed code **and** solving a complex problem is even harder\n",
    "\n",
    "- Good Patterns Don't Come Naturally\n",
    "\n",
    "\n",
    "We all face this problem...\n",
    "\n",
    "---\n",
    "\n",
    "*Practising TDD e.g. in Coding Dojos is a great way to improve your skills!*"
   ]
  },
  {
   "cell_type": "markdown",
   "metadata": {
    "slideshow": {
     "slide_type": "slide"
    }
   },
   "source": [
    "## Interactive vs. Test Driven Development\n",
    "#### What about Interactive Development?"
   ]
  },
  {
   "cell_type": "markdown",
   "metadata": {
    "slideshow": {
     "slide_type": "fragment"
    }
   },
   "source": [
    "- Pro:\n",
    "\n",
    "  - Think of ideas and not of implementations\n",
    "\n",
    "  - Everything right at your fingertips\n",
    "\n",
    "  - Fast\n",
    "  \n",
    "- Con:\n",
    "  \n",
    "  - Too fast (for non-trivial code complexity quickly increases immensely)\n",
    "\n",
    "  - Manual verification is lost after each session"
   ]
  },
  {
   "cell_type": "markdown",
   "metadata": {
    "slideshow": {
     "slide_type": "subslide"
    }
   },
   "source": [
    "#### Test Driven Development"
   ]
  },
  {
   "cell_type": "markdown",
   "metadata": {
    "slideshow": {
     "slide_type": "fragment"
    }
   },
   "source": [
    "- Pro:\n",
    "\n",
    "  - Forces you to think about what you expect\n",
    "\n",
    "  - Requires/enforces a testable structure\n",
    "\n",
    "  - Manual verification is embedded in the code\n",
    "\n",
    "- Con:\n",
    "\n",
    "  - (Initially) slower than interactive development\n",
    "  \n",
    "  - API (or similar) changes likely break your tests"
   ]
  },
  {
   "cell_type": "markdown",
   "metadata": {
    "slideshow": {
     "slide_type": "slide"
    }
   },
   "source": [
    "## Interactive vs. Test Driven Development II\n",
    "\n",
    "**Fun:** depends who you ask; maybe: Interactive > TDD (until the first bug)\n",
    "\n",
    "**Speed:** Interactive > TDD\n",
    "\n",
    "**Reproducibility:** Interactive <<< TDD\n",
    "\n",
    "---\n",
    "\n",
    "How can we merge the two development styles?"
   ]
  },
  {
   "cell_type": "markdown",
   "metadata": {
    "slideshow": {
     "slide_type": "subslide"
    }
   },
   "source": [
    "## Goals\n",
    "\n",
    "We need...\n",
    "\n",
    "#### Test Generating Workflow\n",
    "- Turn manual verification into testable features\n",
    "- Document your findings along the way\n",
    "\n",
    "#### Test Driven Design\n",
    "- Divide and Conquer\n",
    "- Split application into manageable parts\n",
    "- Complexity should resides in parts, not in the joints\n",
    "\n"
   ]
  },
  {
   "cell_type": "markdown",
   "metadata": {
    "slideshow": {
     "slide_type": "slide"
    }
   },
   "source": [
    "### Test Generating Workflow\n",
    "\n",
    "*we are in development stage*"
   ]
  },
  {
   "cell_type": "markdown",
   "metadata": {
    "slideshow": {
     "slide_type": "fragment"
    }
   },
   "source": [
    "#### 1. Make your assertions explicit\n",
    "\n",
    "Check at runtime.\n",
    "\n",
    "- Typical use case: Which inputs are valid? How do they look like? What properties do they have?\n",
    "\n",
    "  → Tools: `assert`, [engarde](https://github.com/TomAugspurger/engarde)"
   ]
  },
  {
   "cell_type": "markdown",
   "metadata": {
    "slideshow": {
     "slide_type": "subslide"
    }
   },
   "source": [
    "#### 2. Document your Tests / Test your Documentation\n",
    "\n",
    "Simple/cheap automatic tests\n",
    "\n",
    "- Typical use case: How do I use this function? Can you give me an example?\n",
    "\n",
    "  → Tool: [doctest](https://docs.python.org/3/library/doctest.html)"
   ]
  },
  {
   "cell_type": "markdown",
   "metadata": {
    "slideshow": {
     "slide_type": "fragment"
    }
   },
   "source": [
    "#### 3. Everything else, [pytest](https://docs.pytest.org/en/latest/) FTW\n",
    "\n",
    "Simple/cheap automatic tests as well as very complex ones\n",
    "\n",
    "- Typical use case: How can I cover the rest? How to deal with non-trivial test situations?\n",
    "\n",
    "  → Tool: [pytest](https://docs.pytest.org/en/latest/)\n",
    "\n",
    "---\n",
    "\n",
    "**Purpose of Tools:** verify expectations, be helpful in case of failures"
   ]
  },
  {
   "cell_type": "markdown",
   "metadata": {
    "slideshow": {
     "slide_type": "slide"
    }
   },
   "source": [
    "### Test Driven Design\n",
    "\n",
    "*we are in development stage*"
   ]
  },
  {
   "cell_type": "markdown",
   "metadata": {
    "slideshow": {
     "slide_type": "fragment"
    }
   },
   "source": [
    "- What are units and components?\n",
    "\n",
    "- How are they linked together, how can they be isolated?\n",
    "\n",
    "- How do I model the problem, represent my data?\n",
    "\n",
    "- Who is responsible for what?\n",
    "\n",
    "- What are minimal/reasonable (!) test cases?\n",
    "\n",
    "- ...\n",
    "\n",
    "\n",
    "---\n",
    "\n",
    "*Coming up with a good design is hard*\n",
    "\n",
    "*Test cases may not survive a change of your API or data structures.*"
   ]
  },
  {
   "cell_type": "markdown",
   "metadata": {
    "slideshow": {
     "slide_type": "subslide"
    }
   },
   "source": [
    "### Coming up with a good design is an old problem...\n",
    "\n",
    "Plato, *Phaedrus*, about how to organize work (from [Simplifying complexity]([Jonathan Fine](http://2017.pyconuk.org/sessions/talks/combinatorics-graphs-and-complexity/)):\n",
    "\n",
    "> First, the taking in of scattered particulars under on Idea [Python], so that everyone understands what is being talked about.\n",
    "\n",
    "> [...]\n",
    "\n",
    "> Second, the separation of the Idea into parts [functions, classes, modules], by dividing it at the joints, as nature directs, not by breaking any limb in half as a bad carver [programmer] might.\n"
   ]
  },
  {
   "cell_type": "markdown",
   "metadata": {
    "slideshow": {
     "slide_type": "slide"
    }
   },
   "source": [
    "### Questions?\n",
    "\n",
    "Let's get started..."
   ]
  },
  {
   "cell_type": "code",
   "execution_count": null,
   "metadata": {},
   "outputs": [],
   "source": []
  }
 ],
 "metadata": {
  "celltoolbar": "Slideshow",
  "hide_input": false,
  "kernelspec": {
   "display_name": "Python 3",
   "language": "python",
   "name": "python3"
  },
  "language_info": {
   "codemirror_mode": {
    "name": "ipython",
    "version": 3
   },
   "file_extension": ".py",
   "mimetype": "text/x-python",
   "name": "python",
   "nbconvert_exporter": "python",
   "pygments_lexer": "ipython3",
   "version": "3.6.4"
  }
 },
 "nbformat": 4,
 "nbformat_minor": 2
}
